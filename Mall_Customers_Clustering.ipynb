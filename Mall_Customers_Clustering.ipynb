{
  "nbformat": 4,
  "nbformat_minor": 0,
  "metadata": {
    "colab": {
      "provenance": [],
      "authorship_tag": "ABX9TyO6/xxi2sJyL9Cye50mMDxl",
      "include_colab_link": true
    },
    "kernelspec": {
      "name": "python3",
      "display_name": "Python 3"
    },
    "language_info": {
      "name": "python"
    }
  },
  "cells": [
    {
      "cell_type": "markdown",
      "metadata": {
        "id": "view-in-github",
        "colab_type": "text"
      },
      "source": [
        "<a href=\"https://colab.research.google.com/github/NicoleWachira/AI-Coursework-2025/blob/main/Mall_Customers_Clustering.ipynb\" target=\"_parent\"><img src=\"https://colab.research.google.com/assets/colab-badge.svg\" alt=\"Open In Colab\"/></a>"
      ]
    },
    {
      "cell_type": "code",
      "execution_count": null,
      "metadata": {
        "id": "Qgs5gxh3GOyJ"
      },
      "outputs": [],
      "source": [
        "import pandas as pd\n",
        "from google.colab import files\n",
        "uploaded = files.upload()\n",
        "df= pd.read_csv(\"Mall_Customers.csv\")"
      ]
    },
    {
      "cell_type": "markdown",
      "source": [
        "Question 2 type question here"
      ],
      "metadata": {
        "id": "HIvRayYKPqxU"
      }
    },
    {
      "cell_type": "code",
      "source": [
        "#Question 2 code here"
      ],
      "metadata": {
        "id": "xot4qNcbOrhu"
      },
      "execution_count": null,
      "outputs": []
    },
    {
      "cell_type": "markdown",
      "source": [
        "Question 3a Type question here"
      ],
      "metadata": {
        "id": "vIPDPIgeP0bk"
      }
    },
    {
      "cell_type": "code",
      "source": [
        "#Question 3a code"
      ],
      "metadata": {
        "id": "PYe4wSBVQARA"
      },
      "execution_count": null,
      "outputs": []
    },
    {
      "cell_type": "markdown",
      "source": [
        "Question 3b type question here"
      ],
      "metadata": {
        "id": "xKTZ9pPjTcA4"
      }
    },
    {
      "cell_type": "code",
      "source": [
        "#Question 3bcode"
      ],
      "metadata": {
        "id": "AeAw9YEhThBc"
      },
      "execution_count": null,
      "outputs": []
    },
    {
      "cell_type": "markdown",
      "source": [
        "Question 4 Type Question here"
      ],
      "metadata": {
        "id": "T4Ada9c9QDyG"
      }
    },
    {
      "cell_type": "code",
      "source": [
        "#Q4 code here"
      ],
      "metadata": {
        "id": "r_BbKniOQKCa"
      },
      "execution_count": null,
      "outputs": []
    },
    {
      "cell_type": "markdown",
      "source": [
        "Question 5 Type question here"
      ],
      "metadata": {
        "id": "-WJutcwvQNN7"
      }
    },
    {
      "cell_type": "code",
      "source": [
        "#Question 5 code here"
      ],
      "metadata": {
        "id": "MHe2t2hGQT4_"
      },
      "execution_count": null,
      "outputs": []
    }
  ]
}