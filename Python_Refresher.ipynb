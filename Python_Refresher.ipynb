{
 "cells": [
  {
   "cell_type": "code",
   "execution_count": 11,
   "id": "0ce71315-7e6f-4dfb-b8c0-d3994803d37a",
   "metadata": {},
   "outputs": [
    {
     "name": "stdin",
     "output_type": "stream",
     "text": [
      "Enter number of days:  2\n"
     ]
    },
    {
     "name": "stdout",
     "output_type": "stream",
     "text": [
      "The number of seconds in  2 days is: 172800\n"
     ]
    }
   ],
   "source": [
    "# the user puts the number of days and int converts the input into an integer\n",
    "day= int(input (\"Enter number of days: \"))\n",
    "#Calculate seconds because 1day = 24hours * 60 minutes * 60 seconds\n",
    "seconds = day * 24 * 60 * 60\n",
    "\n",
    "print(\"The number of seconds in \",day, \"days is:\", seconds)\n"
   ]
  },
  {
   "cell_type": "code",
   "execution_count": 4,
   "id": "5b0fa3e7-a04a-4160-be90-60387d2f3866",
   "metadata": {},
   "outputs": [
    {
     "name": "stdin",
     "output_type": "stream",
     "text": [
      "Enter the radius of the sphere:  14\n"
     ]
    },
    {
     "name": "stdout",
     "output_type": "stream",
     "text": [
      "The volume of a sphere is: 11494.040321933855\n"
     ]
    }
   ],
   "source": [
    "import math\n",
    "\n",
    "# User puts the radius and float is the datatype of the radius\n",
    "radius = float(input(\"Enter the radius of the sphere: \"))\n",
    "\n",
    "#formula for volume (4/3) * π * r³\n",
    "# ** for r³ (r raised to the power of 3)\n",
    "volume = (4/3) * math.pi * (radius ** 3)\n",
    "\n",
    "print(\"The volume of a sphere is:\", volume)"
   ]
  },
  {
   "cell_type": "code",
   "execution_count": 19,
   "id": "a1530cc3-d43d-4e60-8295-aa826ad6d498",
   "metadata": {},
   "outputs": [
    {
     "name": "stdin",
     "output_type": "stream",
     "text": [
      "Enter the  length of the square:  3\n"
     ]
    },
    {
     "name": "stdout",
     "output_type": "stream",
     "text": [
      "Area of the square is: 9.0\n",
      "perimeter of the square is: 12.0\n"
     ]
    }
   ],
   "source": [
    "#Calculate the area of a square s X s\n",
    "def area(side):\n",
    "    return side * side\n",
    "#Calculate the perimeter\n",
    "def perimeter(side):\n",
    "    return 4 * side\n",
    "\n",
    "#User inputs the length of the square\n",
    "side = float(input(\"Enter the  length of the square: \"))\n",
    "    \n",
    "#area and perimeter Calculations\n",
    "a = area(side)\n",
    "p =perimeter(side)\n",
    "    \n",
    "#Display the results\n",
    "print(\"Area of the square is:\", a)\n",
    "print(\"perimeter of the square is:\", p)\n",
    "   \n",
    "\n"
   ]
  },
  {
   "cell_type": "code",
   "execution_count": 20,
   "id": "adddc6d2-bc3a-442d-b304-0340e50259f5",
   "metadata": {},
   "outputs": [
    {
     "name": "stdin",
     "output_type": "stream",
     "text": [
      "Enter a single character: G\n"
     ]
    },
    {
     "name": "stdout",
     "output_type": "stream",
     "text": [
      "The character is: uppercase\n"
     ]
    }
   ],
   "source": [
    "#Question 4\n",
    "#Check if the character is uppercase or lowercase\n",
    "def check_case(character):\n",
    "    if character.isupper():\n",
    "        return \"uppercase\"\n",
    "    elif character.islower():\n",
    "        return \"lowercase\"\n",
    "    else:\n",
    "        return \"not a letter\"\n",
    "\n",
    "#Ask the user to input a character\n",
    "character = input(\"Enter a single character:\")\n",
    "\n",
    "result = check_case(character)\n",
    "print(\"The character is:\", result)\n",
    "    \n"
   ]
  },
  {
   "cell_type": "code",
   "execution_count": 22,
   "id": "53aecde9-39d7-4b21-a07a-1cf1a8bf67e8",
   "metadata": {},
   "outputs": [
    {
     "name": "stdout",
     "output_type": "stream",
     "text": [
      " The value of x is : 0.125\n",
      " The value of x is : 0.29166666666666663\n",
      " The value of x is : 0.5416666666666666\n",
      " The value of x is : 1.0416666666666665\n"
     ]
    }
   ],
   "source": [
    "#Question 5\n",
    "# Intialize the variables\n",
    "x = 0\n",
    "y = 20\n",
    "\n",
    "# repeat until y is less than 6\n",
    "while y>=6:\n",
    "    #Subtract 4 from y\n",
    "    y = y-4\n",
    "    #Add 2/y to x\n",
    "    x= x+(2/y)\n",
    "\n",
    "    #display x\n",
    "    print(\" The value of x is :\", x)\n",
    "   "
   ]
  },
  {
   "cell_type": "code",
   "execution_count": 32,
   "id": "39ee53b6-6140-493f-85bd-fed5842dc1a8",
   "metadata": {},
   "outputs": [
    {
     "name": "stdin",
     "output_type": "stream",
     "text": [
      "Enter number 1 :  2\n",
      "Enter number 2 :  1\n",
      "Enter number 3 :  1\n",
      "Enter number 4 :  1\n",
      "Enter number 5 :  1\n"
     ]
    },
    {
     "name": "stdout",
     "output_type": "stream",
     "text": [
      "The numbers you entered are : [2, 1, 1, 1, 1]\n",
      "The average of the numbers is : 1.2\n"
     ]
    }
   ],
   "source": [
    "#Question 6\n",
    "#Iinitialize an empty array to store numbers\n",
    "numbers =[]\n",
    "\n",
    "#Use a loop to input 5 numbers\n",
    "for i in range(5):\n",
    "    num = int(input(f\"Enter number {i+1} : \"))\n",
    "    numbers.append(num)\n",
    "                      \n",
    "#Calcultae average\n",
    "\n",
    "average = sum(numbers) / len(numbers)\n",
    "\n",
    "#print the results\n",
    "print (\"The numbers you entered are :\", numbers)\n",
    "\n",
    "print (\"The average of the numbers is :\", average)\n",
    "       \n"
   ]
  },
  {
   "cell_type": "markdown",
   "id": "e5fd15ad-ddb5-40a9-8c9a-c877b21f178a",
   "metadata": {},
   "source": [
    "#Question seven screenshots\n",
    "#Part 1\n",
    "![Codility Results 1](codility_result1.png)\n",
    "![Codility Results 2](codility_result2.png)"
   ]
  },
  {
   "cell_type": "code",
   "execution_count": null,
   "id": "9b3c3770-dc09-4b44-8723-77b747357c78",
   "metadata": {},
   "outputs": [],
   "source": []
  }
 ],
 "metadata": {
  "kernelspec": {
   "display_name": "Python 3 (ipykernel)",
   "language": "python",
   "name": "python3"
  },
  "language_info": {
   "codemirror_mode": {
    "name": "ipython",
    "version": 3
   },
   "file_extension": ".py",
   "mimetype": "text/x-python",
   "name": "python",
   "nbconvert_exporter": "python",
   "pygments_lexer": "ipython3",
   "version": "3.13.5"
  }
 },
 "nbformat": 4,
 "nbformat_minor": 5
}
